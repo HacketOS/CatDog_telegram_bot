{
  "nbformat": 4,
  "nbformat_minor": 0,
  "metadata": {
    "colab": {
      "name": "test.ipynb",
      "version": "0.3.2",
      "provenance": [],
      "collapsed_sections": []
    },
    "kernelspec": {
      "name": "python3",
      "display_name": "Python 3"
    },
    "accelerator": "GPU"
  },
  "cells": [
    {
      "cell_type": "code",
      "metadata": {
        "id": "dscblpC0_wJN",
        "colab_type": "code",
        "colab": {
          "base_uri": "https://localhost:8080/",
          "height": 35
        },
        "outputId": "69e8db68-1940-4607-971d-81feda7f376e"
      },
      "source": [
        "import pandas as pd\n",
        "import numpy as np\n",
        "import keras as k\n",
        "from keras.models import Sequential\n",
        "from keras.layers import  Conv2D, MaxPool2D, Dropout, Dense, Flatten\n",
        "import matplotlib.pyplot as plt\n",
        "\n",
        "from keras.applications.vgg16 import VGG16\n",
        "from keras.preprocessing import image\n",
        "from keras.models import Model\n",
        "from keras.layers import Dense\n",
        "from keras.optimizers import SGD\n",
        "\n",
        "import os"
      ],
      "execution_count": 5,
      "outputs": [
        {
          "output_type": "stream",
          "text": [
            "Using TensorFlow backend.\n"
          ],
          "name": "stderr"
        }
      ]
    },
    {
      "cell_type": "code",
      "metadata": {
        "id": "kzDWUueBLdhA",
        "colab_type": "code",
        "colab": {}
      },
      "source": [
        "zip_dir = k.utils.get_file('cats_and_dogs_filterted.zip', origin='https://storage.googleapis.com/mledu-datasets/cats_and_dogs_filtered.zip', extract=True)\n",
        "base_dir = os.path.join(os.path.dirname(zip_dir), 'cats_and_dogs_filtered')\n",
        "train_dir = os.path.join(base_dir, 'train')\n",
        "validation_dir = os.path.join(base_dir, 'validation')"
      ],
      "execution_count": 0,
      "outputs": []
    },
    {
      "cell_type": "code",
      "metadata": {
        "id": "kcL8IWblneHc",
        "colab_type": "code",
        "outputId": "713bc1e6-92ae-47a6-ff87-747252f484c1",
        "colab": {
          "base_uri": "https://localhost:8080/",
          "height": 53
        }
      },
      "source": [
        "batch_size = 150\n",
        "image_size = 150\n",
        "\n",
        "train_image_generator = k.preprocessing.image.ImageDataGenerator(rescale = 1./255,\n",
        "                                                                 rotation_range = 40,\n",
        "                                                                 width_shift_range = 0.2,\n",
        "                                                                 height_shift_range = 0.2,\n",
        "                                                                 shear_range = 0.2,\n",
        "                                                                 zoom_range = 0.5,\n",
        "                                                                 horizontal_flip = True,\n",
        "                                                                 fill_mode = 'nearest')\n",
        "validation_image_generator = k.preprocessing.image.ImageDataGenerator(rescale = 1./255)\n",
        "\n",
        "train_data_generator = train_image_generator.flow_from_directory(batch_size = batch_size,\n",
        "                                                                      directory = train_dir,\n",
        "                                                                      shuffle = True, \n",
        "                                                                      target_size = [image_size, image_size],\n",
        "                                                                      class_mode = 'binary')\n",
        "\n",
        "validation_data_generator = validation_image_generator.flow_from_directory(batch_size = batch_size,\n",
        "                                                                      directory = validation_dir,\n",
        "                                                                      shuffle = True, \n",
        "                                                                      target_size = [image_size, image_size],\n",
        "                                                                      class_mode = 'binary')"
      ],
      "execution_count": 0,
      "outputs": [
        {
          "output_type": "stream",
          "text": [
            "Found 2000 images belonging to 2 classes.\n",
            "Found 1000 images belonging to 2 classes.\n"
          ],
          "name": "stdout"
        }
      ]
    },
    {
      "cell_type": "code",
      "metadata": {
        "id": "uVpcE3m0sOFG",
        "colab_type": "code",
        "outputId": "0d248c01-73ce-4cbb-97e5-204e8ecc77b4",
        "colab": {
          "base_uri": "https://localhost:8080/",
          "height": 575
        }
      },
      "source": [
        "model = Sequential()\n",
        "model.add(Conv2D(32, (3,3), activation= 'relu', input_shape = (150, 150, 3)))\n",
        "model.add(MaxPool2D(2,2))\n",
        "model.add(Conv2D(64, (3,3), activation= 'relu'))\n",
        "model.add(MaxPool2D(2,2))\n",
        "model.add(Conv2D(128, (3,3), activation= 'relu'))\n",
        "model.add(MaxPool2D(2,2))\n",
        "model.add(Conv2D(128, (3,3), activation= 'relu'))\n",
        "model.add(MaxPool2D(2,2))\n",
        "model.add(Dropout(0.5))\n",
        "model.add(Flatten())\n",
        "model.add(Dense(512, activation = 'relu'))\n",
        "model.add(Dense(2, activation = 'softmax'))\n",
        "\n",
        "model.compile(optimizer = 'adam', loss = 'sparse_categorical_crossentropy', metrics = ['accuracy'])\n",
        "model.summary()"
      ],
      "execution_count": 0,
      "outputs": [
        {
          "output_type": "stream",
          "text": [
            "_________________________________________________________________\n",
            "Layer (type)                 Output Shape              Param #   \n",
            "=================================================================\n",
            "conv2d_13 (Conv2D)           (None, 148, 148, 32)      896       \n",
            "_________________________________________________________________\n",
            "max_pooling2d_13 (MaxPooling (None, 74, 74, 32)        0         \n",
            "_________________________________________________________________\n",
            "conv2d_14 (Conv2D)           (None, 72, 72, 64)        18496     \n",
            "_________________________________________________________________\n",
            "max_pooling2d_14 (MaxPooling (None, 36, 36, 64)        0         \n",
            "_________________________________________________________________\n",
            "conv2d_15 (Conv2D)           (None, 34, 34, 128)       73856     \n",
            "_________________________________________________________________\n",
            "max_pooling2d_15 (MaxPooling (None, 17, 17, 128)       0         \n",
            "_________________________________________________________________\n",
            "conv2d_16 (Conv2D)           (None, 15, 15, 128)       147584    \n",
            "_________________________________________________________________\n",
            "max_pooling2d_16 (MaxPooling (None, 7, 7, 128)         0         \n",
            "_________________________________________________________________\n",
            "dropout_13 (Dropout)         (None, 7, 7, 128)         0         \n",
            "_________________________________________________________________\n",
            "flatten_4 (Flatten)          (None, 6272)              0         \n",
            "_________________________________________________________________\n",
            "dense_7 (Dense)              (None, 512)               3211776   \n",
            "_________________________________________________________________\n",
            "dense_8 (Dense)              (None, 2)                 1026      \n",
            "=================================================================\n",
            "Total params: 3,453,634\n",
            "Trainable params: 3,453,634\n",
            "Non-trainable params: 0\n",
            "_________________________________________________________________\n"
          ],
          "name": "stdout"
        }
      ]
    },
    {
      "cell_type": "code",
      "metadata": {
        "id": "0QcRP_l-xPHr",
        "colab_type": "code",
        "outputId": "ed96e41a-cc91-4a61-ff89-ad21d91bcaa3",
        "colab": {
          "base_uri": "https://localhost:8080/",
          "height": 377
        }
      },
      "source": [
        "epochs = 10\n",
        "history = model.fit_generator(train_data_generator,\n",
        "                              epochs = epochs,\n",
        "                              steps_per_epoch= 20,\n",
        "                              validation_data = validation_data_generator, validation_steps = 10)"
      ],
      "execution_count": 0,
      "outputs": [
        {
          "output_type": "stream",
          "text": [
            "Epoch 1/10\n",
            "20/20 [==============================] - 26s 1s/step - loss: 0.3926 - acc: 0.8191 - val_loss: 0.3859 - val_acc: 0.8229\n",
            "Epoch 2/10\n",
            "20/20 [==============================] - 26s 1s/step - loss: 0.3800 - acc: 0.8283 - val_loss: 0.3751 - val_acc: 0.8303\n",
            "Epoch 3/10\n",
            "20/20 [==============================] - 25s 1s/step - loss: 0.3571 - acc: 0.8379 - val_loss: 0.4168 - val_acc: 0.8214\n",
            "Epoch 4/10\n",
            "20/20 [==============================] - 26s 1s/step - loss: 0.3918 - acc: 0.8177 - val_loss: 0.4168 - val_acc: 0.8034\n",
            "Epoch 5/10\n",
            "20/20 [==============================] - 26s 1s/step - loss: 0.3954 - acc: 0.8183 - val_loss: 0.3846 - val_acc: 0.8186\n",
            "Epoch 6/10\n",
            "20/20 [==============================] - 25s 1s/step - loss: 0.3887 - acc: 0.8310 - val_loss: 0.3971 - val_acc: 0.8179\n",
            "Epoch 7/10\n",
            "20/20 [==============================] - 26s 1s/step - loss: 0.3505 - acc: 0.8429 - val_loss: 0.3849 - val_acc: 0.8166\n",
            "Epoch 8/10\n",
            "20/20 [==============================] - 25s 1s/step - loss: 0.3596 - acc: 0.8414 - val_loss: 0.3841 - val_acc: 0.8193\n",
            "Epoch 9/10\n",
            "20/20 [==============================] - 26s 1s/step - loss: 0.3451 - acc: 0.8412 - val_loss: 0.4334 - val_acc: 0.8193\n",
            "Epoch 10/10\n",
            "20/20 [==============================] - 25s 1s/step - loss: 0.3728 - acc: 0.8312 - val_loss: 0.4054 - val_acc: 0.8143\n"
          ],
          "name": "stdout"
        }
      ]
    },
    {
      "cell_type": "code",
      "metadata": {
        "id": "CKBZ4CIQy5Wh",
        "colab_type": "code",
        "outputId": "c851cfaa-8b93-4444-9b71-d2dc75c939d4",
        "colab": {
          "base_uri": "https://localhost:8080/",
          "height": 737
        }
      },
      "source": [
        "#let's try fine tuning\n",
        "base_model = VGG16(weights='imagenet', include_top=False, input_shape = (150,150,3))\n",
        "for layer in base_model.layers:\n",
        "  layer.trainable = False\n",
        "flat1 = Flatten()(base_model.layers[-1].output)\n",
        "drop1 = Dropout(0.5)(flat1)\n",
        "class1 = Dense(128, activation = 'relu', kernel_initializer='he_uniform')(drop1)\n",
        "output = Dense(2, activation = 'softmax')(class1)\n",
        "\n",
        "model = Model(inputs = base_model.inputs, outputs = output)\n",
        "model.compile(optimizer = 'adam', loss = 'sparse_categorical_crossentropy', metrics = ['accuracy'])\n",
        "\n",
        "epochs = 20\n",
        "history = model.fit_generator(train_data_generator,\n",
        "                              epochs = epochs,\n",
        "                              steps_per_epoch= 40,\n",
        "                              validation_data = validation_data_generator, validation_steps = 10)"
      ],
      "execution_count": 0,
      "outputs": [
        {
          "output_type": "stream",
          "text": [
            "Epoch 1/20\n",
            "40/40 [==============================] - 64s 2s/step - loss: 0.8871 - acc: 0.5435 - val_loss: 0.6089 - val_acc: 0.8103\n",
            "Epoch 2/20\n",
            "40/40 [==============================] - 56s 1s/step - loss: 0.5640 - acc: 0.7284 - val_loss: 0.3751 - val_acc: 0.8243\n",
            "Epoch 3/20\n",
            "40/40 [==============================] - 56s 1s/step - loss: 0.4647 - acc: 0.7785 - val_loss: 0.3193 - val_acc: 0.8607\n",
            "Epoch 4/20\n",
            "40/40 [==============================] - 55s 1s/step - loss: 0.4230 - acc: 0.8026 - val_loss: 0.2810 - val_acc: 0.8814\n",
            "Epoch 5/20\n",
            "40/40 [==============================] - 57s 1s/step - loss: 0.4069 - acc: 0.8117 - val_loss: 0.2802 - val_acc: 0.8800\n",
            "Epoch 6/20\n",
            "40/40 [==============================] - 55s 1s/step - loss: 0.4098 - acc: 0.8111 - val_loss: 0.2808 - val_acc: 0.8757\n",
            "Epoch 7/20\n",
            "40/40 [==============================] - 55s 1s/step - loss: 0.4134 - acc: 0.8065 - val_loss: 0.2672 - val_acc: 0.8800\n",
            "Epoch 8/20\n",
            "40/40 [==============================] - 55s 1s/step - loss: 0.4022 - acc: 0.8123 - val_loss: 0.2382 - val_acc: 0.8986\n",
            "Epoch 9/20\n",
            "40/40 [==============================] - 55s 1s/step - loss: 0.3909 - acc: 0.8260 - val_loss: 0.2662 - val_acc: 0.8907\n",
            "Epoch 10/20\n",
            "40/40 [==============================] - 55s 1s/step - loss: 0.3947 - acc: 0.8200 - val_loss: 0.2563 - val_acc: 0.8883\n",
            "Epoch 11/20\n",
            "40/40 [==============================] - 54s 1s/step - loss: 0.3884 - acc: 0.8193 - val_loss: 0.2700 - val_acc: 0.8921\n",
            "Epoch 12/20\n",
            "40/40 [==============================] - 55s 1s/step - loss: 0.3928 - acc: 0.8155 - val_loss: 0.2629 - val_acc: 0.8834\n",
            "Epoch 13/20\n",
            "40/40 [==============================] - 54s 1s/step - loss: 0.3922 - acc: 0.8193 - val_loss: 0.2464 - val_acc: 0.9014\n",
            "Epoch 14/20\n",
            "40/40 [==============================] - 54s 1s/step - loss: 0.3822 - acc: 0.8275 - val_loss: 0.2507 - val_acc: 0.8959\n",
            "Epoch 15/20\n",
            "40/40 [==============================] - 54s 1s/step - loss: 0.3679 - acc: 0.8329 - val_loss: 0.2588 - val_acc: 0.8924\n",
            "Epoch 16/20\n",
            "40/40 [==============================] - 54s 1s/step - loss: 0.3747 - acc: 0.8245 - val_loss: 0.2408 - val_acc: 0.8950\n",
            "Epoch 17/20\n",
            "40/40 [==============================] - 54s 1s/step - loss: 0.3789 - acc: 0.8268 - val_loss: 0.2845 - val_acc: 0.8779\n",
            "Epoch 18/20\n",
            "40/40 [==============================] - 53s 1s/step - loss: 0.3772 - acc: 0.8217 - val_loss: 0.2594 - val_acc: 0.8971\n",
            "Epoch 19/20\n",
            "40/40 [==============================] - 55s 1s/step - loss: 0.3813 - acc: 0.8268 - val_loss: 0.2729 - val_acc: 0.8814\n",
            "Epoch 20/20\n",
            "40/40 [==============================] - 53s 1s/step - loss: 0.3831 - acc: 0.8221 - val_loss: 0.2430 - val_acc: 0.8921\n"
          ],
          "name": "stdout"
        }
      ]
    },
    {
      "cell_type": "code",
      "metadata": {
        "id": "sGSA8gEna5yl",
        "colab_type": "code",
        "outputId": "782365f1-2af4-49ef-837c-09b54b408656",
        "colab": {
          "base_uri": "https://localhost:8080/",
          "height": 559
        }
      },
      "source": [
        "plt.figure(figsize=(16,9))\n",
        "plt.plot(history.history['acc'])\n",
        "plt.plot(history.history['val_acc'])\n",
        "plt.legend(['acc', 'val_acc'])"
      ],
      "execution_count": 0,
      "outputs": [
        {
          "output_type": "execute_result",
          "data": {
            "text/plain": [
              "<matplotlib.legend.Legend at 0x7f8c85b9b748>"
            ]
          },
          "metadata": {
            "tags": []
          },
          "execution_count": 70
        },
        {
          "output_type": "display_data",
          "data": {
            "image/png": "[encoded data removed]",
            "text/plain": [
              "<Figure size 1152x648 with 1 Axes>"
            ]
          },
          "metadata": {
            "tags": []
          }
        }
      ]
    },
    {
      "cell_type": "code",
      "metadata": {
        "id": "sTgrEoCkcHeq",
        "colab_type": "code",
        "colab": {}
      },
      "source": [
        "#save model with weights\n",
        "model.save('CatDog.h5')"
      ],
      "execution_count": 0,
      "outputs": []
    }
  ]
}